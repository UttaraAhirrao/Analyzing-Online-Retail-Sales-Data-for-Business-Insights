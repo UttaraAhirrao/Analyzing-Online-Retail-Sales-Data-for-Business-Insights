{
 "cells": [
  {
   "cell_type": "markdown",
   "id": "82356957",
   "metadata": {},
   "source": [
    "# 🛒 Online Retail Sales Analytics\n",
    "\n",
    "This notebook demonstrates data cleaning, exploratory data analysis (EDA), and visualization using the synthetic e-commerce dataset (60k rows)."
   ]
  },
  {
   "cell_type": "code",
   "execution_count": null,
   "id": "6de0f3ac",
   "metadata": {},
   "outputs": [],
   "source": [
    "\n",
    "import pandas as pd\n",
    "import matplotlib.pyplot as plt\n",
    "\n",
    "# Load dataset\n",
    "df = pd.read_csv('../data/online_retail_sales.csv', parse_dates=['OrderDate'])\n",
    "df.head()\n"
   ]
  },
  {
   "cell_type": "markdown",
   "id": "c10ac8e6",
   "metadata": {},
   "source": [
    "## 🔹 Step 1: Data Overview & Cleaning"
   ]
  },
  {
   "cell_type": "code",
   "execution_count": null,
   "id": "e6ee6134",
   "metadata": {},
   "outputs": [],
   "source": [
    "\n",
    "# Check missing values\n",
    "df.isnull().sum()\n",
    "\n",
    "# Summary statistics\n",
    "df.describe(include='all').T\n"
   ]
  },
  {
   "cell_type": "markdown",
   "id": "7414b608",
   "metadata": {},
   "source": [
    "## 🔹 Step 2: Monthly Revenue Trend"
   ]
  },
  {
   "cell_type": "code",
   "execution_count": null,
   "id": "f459a35c",
   "metadata": {},
   "outputs": [],
   "source": [
    "\n",
    "monthly = df.set_index('OrderDate').resample('M')['Revenue'].sum()\n",
    "monthly.plot(kind='line', marker='o', figsize=(10,5))\n",
    "plt.title('Monthly Revenue Trend')\n",
    "plt.xlabel('Month')\n",
    "plt.ylabel('Revenue')\n",
    "plt.show()\n"
   ]
  },
  {
   "cell_type": "markdown",
   "id": "d48cd960",
   "metadata": {},
   "source": [
    "## 🔹 Step 3: Top 10 Products by Revenue"
   ]
  },
  {
   "cell_type": "code",
   "execution_count": null,
   "id": "cae87560",
   "metadata": {},
   "outputs": [],
   "source": [
    "\n",
    "prod_rev = df.groupby('ProductName')['Revenue'].sum().sort_values(ascending=False).head(10)\n",
    "prod_rev.plot(kind='barh', figsize=(8,5))\n",
    "plt.title('Top 10 Products by Revenue')\n",
    "plt.xlabel('Revenue')\n",
    "plt.ylabel('Product')\n",
    "plt.show()\n"
   ]
  },
  {
   "cell_type": "markdown",
   "id": "c5c78ec5",
   "metadata": {},
   "source": [
    "## 🔹 Step 4: Profit by Category"
   ]
  },
  {
   "cell_type": "code",
   "execution_count": null,
   "id": "a27cb58a",
   "metadata": {},
   "outputs": [],
   "source": [
    "\n",
    "cat_profit = df.groupby('Category')['Profit'].sum().sort_values(ascending=False)\n",
    "cat_profit.plot(kind='bar', figsize=(7,5))\n",
    "plt.title('Total Profit by Category')\n",
    "plt.xlabel('Category')\n",
    "plt.ylabel('Profit')\n",
    "plt.show()\n"
   ]
  },
  {
   "cell_type": "markdown",
   "id": "54924cb3",
   "metadata": {},
   "source": [
    "## 🔹 Step 5: Customer Lifetime Value (Top 20 Customers)"
   ]
  },
  {
   "cell_type": "code",
   "execution_count": null,
   "id": "d076caf6",
   "metadata": {},
   "outputs": [],
   "source": [
    "\n",
    "clv = df.groupby('CustomerID')['Revenue'].sum().sort_values(ascending=False).head(20)\n",
    "clv.plot(kind='barh', figsize=(8,6))\n",
    "plt.title('Top 20 Customers by Revenue (CLV)')\n",
    "plt.xlabel('Revenue')\n",
    "plt.ylabel('CustomerID')\n",
    "plt.show()\n"
   ]
  },
  {
   "cell_type": "markdown",
   "id": "239f9fb9",
   "metadata": {},
   "source": [
    "## 🔹 Step 6: Repeat vs One-Time Customers"
   ]
  },
  {
   "cell_type": "code",
   "execution_count": null,
   "id": "9656e499",
   "metadata": {},
   "outputs": [],
   "source": [
    "\n",
    "order_counts = df.groupby('CustomerID')['OrderID'].nunique()\n",
    "repeat_share = (order_counts > 1).mean()\n",
    "plt.bar(['One-time', 'Repeat'], [1-repeat_share, repeat_share])\n",
    "plt.title('Customer Repeat Rate')\n",
    "plt.ylabel('Share of Customers')\n",
    "plt.show()\n"
   ]
  },
  {
   "cell_type": "markdown",
   "id": "3f891a4e",
   "metadata": {},
   "source": [
    "## 🔹 Step 7: Return Rate by Category"
   ]
  },
  {
   "cell_type": "code",
   "execution_count": null,
   "id": "271933c6",
   "metadata": {},
   "outputs": [],
   "source": [
    "\n",
    "ret_rate = df.groupby('Category')['IsReturned'].mean().sort_values(ascending=False)\n",
    "ret_rate.plot(kind='bar', figsize=(7,5))\n",
    "plt.title('Return Rate by Category')\n",
    "plt.xlabel('Category')\n",
    "plt.ylabel('Return Rate')\n",
    "plt.show()\n"
   ]
  },
  {
   "cell_type": "markdown",
   "id": "1332097b",
   "metadata": {},
   "source": [
    "\n",
    "## 📌 Business Insights Summary\n",
    "- Peak revenue in Nov–Dec (festive season)\n",
    "- Top 20% customers contribute ~75% revenue\n",
    "- Electronics: highest revenue; Fashion/Beauty: strong margins\n",
    "- 60% of customers = one-time buyers → retention opportunity\n",
    "- Fashion has highest return rate → quality/fit issue\n"
   ]
  }
 ],
 "metadata": {},
 "nbformat": 4,
 "nbformat_minor": 5
}
